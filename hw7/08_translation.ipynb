{
 "cells": [
  {
   "cell_type": "markdown",
   "metadata": {},
   "source": [
    "## T5 трансформер для перевода с немецкого на английский"
   ]
  },
  {
   "cell_type": "markdown",
   "metadata": {},
   "source": [
    "Сегодня вы поработаете над настоящей задачей NLP и попробуете обучить трансформер переводить короткие предложения с английского на немецкий.\n",
    "\n",
    "Токенизацию и блоки трансформера писать не придётся — будем пользоваться библиотекой `transformers`.\n",
    "\n",
    "Наши задачи:\n",
    "- Познакомиться с наиболее популярным методом токенизации текстов — byte pair encoding\n",
    "- Научиться пользоваться токенизатором из `transformers`\n",
    "- Подготовить даннные\n",
    "- Обучить готовую архитектуру T5-small под нашу задачу\n",
    "- Исследовать разные стратегии декодирования с помощью обученной модели"
   ]
  },
  {
   "metadata": {
    "ExecuteTime": {
     "end_time": "2024-11-17T02:36:15.036968Z",
     "start_time": "2024-11-17T02:36:09.586270Z"
    }
   },
   "cell_type": "code",
   "source": [
    "!pip install datasets transformers[sentencepiece]\n",
    "!pip install sentencepiece"
   ],
   "outputs": [
    {
     "name": "stdout",
     "output_type": "stream",
     "text": [
      "zsh:1: no matches found: transformers[sentencepiece]\r\n",
      "Collecting sentencepiece\r\n",
      "  Obtaining dependency information for sentencepiece from https://files.pythonhosted.org/packages/79/91/b54a528e0789cd7986341ed3909bec56365c3b672daef8b10aa4098238f0/sentencepiece-0.2.0-cp39-cp39-macosx_11_0_arm64.whl.metadata\r\n",
      "  Downloading sentencepiece-0.2.0-cp39-cp39-macosx_11_0_arm64.whl.metadata (7.7 kB)\r\n",
      "Downloading sentencepiece-0.2.0-cp39-cp39-macosx_11_0_arm64.whl (1.2 MB)\r\n",
      "\u001B[2K   \u001B[90m━━━━━━━━━━━━━━━━━━━━━━━━━━━━━━━━━━━━━━━━\u001B[0m \u001B[32m1.2/1.2 MB\u001B[0m \u001B[31m1.0 MB/s\u001B[0m eta \u001B[36m0:00:00\u001B[0ma \u001B[36m0:00:01\u001B[0m\r\n",
      "\u001B[?25hInstalling collected packages: sentencepiece\r\n",
      "Successfully installed sentencepiece-0.2.0\r\n",
      "\r\n",
      "\u001B[1m[\u001B[0m\u001B[34;49mnotice\u001B[0m\u001B[1;39;49m]\u001B[0m\u001B[39;49m A new release of pip is available: \u001B[0m\u001B[31;49m23.2.1\u001B[0m\u001B[39;49m -> \u001B[0m\u001B[32;49m24.3.1\u001B[0m\r\n",
      "\u001B[1m[\u001B[0m\u001B[34;49mnotice\u001B[0m\u001B[1;39;49m]\u001B[0m\u001B[39;49m To update, run: \u001B[0m\u001B[32;49mpip install --upgrade pip\u001B[0m\r\n"
     ]
    }
   ],
   "execution_count": 13
  },
  {
   "cell_type": "code",
   "metadata": {
    "ExecuteTime": {
     "end_time": "2024-11-17T02:38:46.740171Z",
     "start_time": "2024-11-17T02:38:43.529226Z"
    }
   },
   "source": [
    "import math\n",
    "from pathlib import Path\n",
    "from typing import cast\n",
    "\n",
    "import lightning as L\n",
    "import torch\n",
    "import torch.nn.functional as F\n",
    "from torch import Tensor, nn\n",
    "from torch.utils.data import DataLoader, Dataset\n",
    "from transformers import T5ForConditionalGeneration, T5Tokenizer\n",
    "\n",
    "from datasets import load_dataset, load_from_disk"
   ],
   "outputs": [
    {
     "name": "stderr",
     "output_type": "stream",
     "text": [
      "/Users/tsagoll/ML_Last_HW/pythonProject3/.venv/lib/python3.9/site-packages/urllib3/__init__.py:35: NotOpenSSLWarning: urllib3 v2 only supports OpenSSL 1.1.1+, currently the 'ssl' module is compiled with 'LibreSSL 2.8.3'. See: https://github.com/urllib3/urllib3/issues/3020\n",
      "  warnings.warn(\n"
     ]
    }
   ],
   "execution_count": 1
  },
  {
   "cell_type": "code",
   "metadata": {
    "ExecuteTime": {
     "end_time": "2024-11-17T02:39:03.138421Z",
     "start_time": "2024-11-17T02:39:03.134139Z"
    }
   },
   "source": [
    "torch.manual_seed(42)"
   ],
   "outputs": [
    {
     "data": {
      "text/plain": [
       "<torch._C.Generator at 0x103f29770>"
      ]
     },
     "execution_count": 6,
     "metadata": {},
     "output_type": "execute_result"
    }
   ],
   "execution_count": 6
  },
  {
   "cell_type": "markdown",
   "metadata": {},
   "source": [
    "#### Готовим данные"
   ]
  },
  {
   "cell_type": "code",
   "metadata": {
    "ExecuteTime": {
     "end_time": "2024-11-17T02:39:19.296040Z",
     "start_time": "2024-11-17T02:39:06.246814Z"
    }
   },
   "source": [
    "train_dataset = load_dataset(\"bentrevett/multi30k\", split=\"train\")\n",
    "test_dataset = load_dataset(\"bentrevett/multi30k\", split=\"test\")"
   ],
   "outputs": [],
   "execution_count": 7
  },
  {
   "cell_type": "code",
   "metadata": {
    "ExecuteTime": {
     "end_time": "2024-11-17T02:21:24.173306Z",
     "start_time": "2024-11-17T02:21:24.166652Z"
    }
   },
   "source": [
    "train_dataset[0]"
   ],
   "outputs": [
    {
     "data": {
      "text/plain": [
       "{'en': 'Two young, White males are outside near many bushes.',\n",
       " 'de': 'Zwei junge weiße Männer sind im Freien in der Nähe vieler Büsche.'}"
      ]
     },
     "execution_count": 9,
     "metadata": {},
     "output_type": "execute_result"
    }
   ],
   "execution_count": 9
  },
  {
   "cell_type": "code",
   "metadata": {
    "ExecuteTime": {
     "end_time": "2024-11-17T02:42:08.771215Z",
     "start_time": "2024-11-17T02:42:07.716216Z"
    }
   },
   "source": [
    "import matplotlib.pyplot as plt\n",
    "\n",
    "\n",
    "def length_histogram(dataset, ax, bins=20) -> None:\n",
    "    en_lengths = []\n",
    "    de_lengths = []\n",
    "    for sample in dataset:\n",
    "        en_lengths.append(len(sample[\"en\"].split(\" \")))\n",
    "        de_lengths.append(len(sample[\"de\"].split(\" \")))\n",
    "\n",
    "    ax.hist(en_lengths, alpha=0.5, bins=bins, label=\"en\")\n",
    "    ax.hist(de_lengths, alpha=0.5, bins=bins, label=\"de\")\n",
    "    ax.legend()\n",
    "\n",
    "\n",
    "fig, axes = plt.subplots(1, 2, figsize=(10, 3))\n",
    "length_histogram(train_dataset, axes[0])\n",
    "length_histogram(test_dataset, axes[1])"
   ],
   "outputs": [
    {
     "data": {
      "text/plain": [
       "<Figure size 1000x300 with 2 Axes>"
      ],
      "image/png": "[encoded data removed]"
     },
     "metadata": {},
     "output_type": "display_data"
    }
   ],
   "execution_count": 8
  },
  {
   "cell_type": "markdown",
   "metadata": {},
   "source": [
    "Оставим только сравнительно короткие предложения, чтобы можно было чему-то научиться за короткое время"
   ]
  },
  {
   "cell_type": "code",
   "metadata": {
    "ExecuteTime": {
     "end_time": "2024-11-17T02:42:12.127851Z",
     "start_time": "2024-11-17T02:42:11.361689Z"
    }
   },
   "source": [
    "maxlen = 8\n",
    "\n",
    "\n",
    "def filter_dataset(dataset, maxlen: int) -> list[dict[str, str]]:\n",
    "    return [\n",
    "        dataset[i]\n",
    "        for i in range(len(dataset))\n",
    "        if len(dataset[i][\"en\"].split(\" \")) <= maxlen\n",
    "    ]\n",
    "\n",
    "\n",
    "train_filtered = filter_dataset(train_dataset, maxlen)\n",
    "test_filtered = filter_dataset(test_dataset, maxlen)\n",
    "\n",
    "print(len(train_filtered), len(test_filtered))"
   ],
   "outputs": [
    {
     "name": "stdout",
     "output_type": "stream",
     "text": [
      "5144 174\n"
     ]
    }
   ],
   "execution_count": 9
  },
  {
   "cell_type": "markdown",
   "metadata": {},
   "source": [
    "##### Токенизация: byte-pair encoding"
   ]
  },
  {
   "cell_type": "markdown",
   "metadata": {},
   "source": [
    "Построение:\n",
    "\n",
    "Начинаем со словаря, состоящего из отдельных символов (начальные токены).\n",
    "На каждом шаге:\n",
    "1. Оцениваем частоту всех пар токенов внутри слов, находим самую частую\n",
    "2. Добавляем её в список токенов и в таблицу слияний\n",
    "3. Останавливаемся, когда достигаем максимального размера словаря\n",
    "\n",
    "\n",
    "Применение:\n",
    "\n",
    "1. Разбиваем текст на символы\n",
    "2. Находим первое возможное слияние в таблице и применяем его\n",
    "3. Останавливаемся, когда дальнейшие слияния невозможны\n",
    "\n",
    "<img src=\"https://lena-voita.github.io/resources/lectures/seq2seq/bpe/build_merge_table.gif\" style=\"background:white\" height=\"300\"/>\n",
    "<img src=\"https://lena-voita.github.io/resources/lectures/seq2seq/bpe/bpe_apply.gif\" style=\"background:white\" height=\"300\"/>\n"
   ]
  },
  {
   "cell_type": "markdown",
   "metadata": {},
   "source": [
    "Реализаций много, мы будем использовать токенизатор  из библиотеки `transformers`, где помимо самого подготовленного токенизатора (`sentencepiece.SentencePieceProcessor`) много полезных методов для кодирования и декодирования.\n",
    "\n",
    "Добавим при создании новый токен, который будет указывать на начало перевода"
   ]
  },
  {
   "cell_type": "code",
   "metadata": {
    "ExecuteTime": {
     "end_time": "2024-11-17T02:42:27.703209Z",
     "start_time": "2024-11-17T02:42:15.358730Z"
    }
   },
   "source": [
    "tokenizer: T5Tokenizer = T5Tokenizer.from_pretrained(\n",
    "    \"t5-small\", padding_size=\"right\", bos_token=\"</b>\", legacy=False\n",
    ")"
   ],
   "outputs": [
    {
     "data": {
      "text/plain": [
       "tokenizer_config.json:   0%|          | 0.00/2.32k [00:00<?, ?B/s]"
      ],
      "application/vnd.jupyter.widget-view+json": {
       "version_major": 2,
       "version_minor": 0,
       "model_id": "8060c37c56aa4b0cb1abdcd1016c2fd6"
      }
     },
     "metadata": {},
     "output_type": "display_data"
    },
    {
     "data": {
      "text/plain": [
       "spiece.model:   0%|          | 0.00/792k [00:00<?, ?B/s]"
      ],
      "application/vnd.jupyter.widget-view+json": {
       "version_major": 2,
       "version_minor": 0,
       "model_id": "164a05d0dd5746bfb1e3551f1b1e3be0"
      }
     },
     "metadata": {},
     "output_type": "display_data"
    },
    {
     "data": {
      "text/plain": [
       "tokenizer.json:   0%|          | 0.00/1.39M [00:00<?, ?B/s]"
      ],
      "application/vnd.jupyter.widget-view+json": {
       "version_major": 2,
       "version_minor": 0,
       "model_id": "fa9484ed115b4439ac2fee9bc83fa1f8"
      }
     },
     "metadata": {},
     "output_type": "display_data"
    }
   ],
   "execution_count": 10
  },
  {
   "cell_type": "code",
   "metadata": {
    "ExecuteTime": {
     "end_time": "2024-11-17T02:42:32.316326Z",
     "start_time": "2024-11-17T02:42:32.313841Z"
    }
   },
   "source": [
    "print(\"Размер словаря: \", len(tokenizer))"
   ],
   "outputs": [
    {
     "name": "stdout",
     "output_type": "stream",
     "text": [
      "Размер словаря:  32101\n"
     ]
    }
   ],
   "execution_count": 11
  },
  {
   "cell_type": "markdown",
   "metadata": {},
   "source": [
    "Посмотрим на примеры токенов, в них встречаются и целые слова из разных языков, и числительные, и знаки препинания:"
   ]
  },
  {
   "cell_type": "code",
   "execution_count": 9,
   "metadata": {},
   "outputs": [
    {
     "data": {
      "text/plain": [
       "[('▁showed', 3217),\n",
       " ('▁Saint', 2788),\n",
       " ('▁Sonic', 20419),\n",
       " ('▁zahlreiche', 9878),\n",
       " ('popular', 27302),\n",
       " ('▁mathematical', 18913),\n",
       " ('likewise', 15340),\n",
       " ('▁si', 108),\n",
       " ('▁Damage', 26135),\n",
       " ('▁choses', 12344)]"
      ]
     },
     "execution_count": 9,
     "metadata": {},
     "output_type": "execute_result"
    }
   ],
   "source": [
    "import random\n",
    "\n",
    "random.choices(list(tokenizer.get_vocab().items()), k=10)"
   ]
  },
  {
   "cell_type": "markdown",
   "metadata": {},
   "source": [
    "Токенизатор в работе: кодирование и декодирование предложений на немецком и английском:"
   ]
  },
  {
   "cell_type": "code",
   "metadata": {
    "ExecuteTime": {
     "end_time": "2024-11-17T02:42:40.867226Z",
     "start_time": "2024-11-17T02:42:40.858107Z"
    }
   },
   "source": [
    "encoded_german = tokenizer.encode(train_dataset[0][\"de\"])\n",
    "encoded_english = tokenizer.encode(train_dataset[0][\"en\"])\n",
    "print(encoded_german)\n",
    "print(tokenizer.decode(encoded_german))\n",
    "print(encoded_english)\n",
    "print(tokenizer.decode(encoded_english))"
   ],
   "outputs": [
    {
     "name": "stdout",
     "output_type": "stream",
     "text": [
      "[11280, 16815, 7838, 15, 16282, 436, 256, 8671, 35, 16, 74, 13271, 2221, 49, 21162, 3992, 5, 1]\n",
      "Zwei junge weiße Männer sind im Freien in der Nähe vieler Büsche.</s>\n",
      "[2759, 1021, 6, 1945, 5069, 7, 33, 1067, 1084, 186, 3, 30271, 5, 1]\n",
      "Two young, White males are outside near many bushes.</s>\n"
     ]
    }
   ],
   "execution_count": 12
  },
  {
   "cell_type": "markdown",
   "metadata": {},
   "source": [
    "Об упаковке в батчи можно больше не беспокоиться — токенизатор умеет обрабатывать сразу пачку примеров"
   ]
  },
  {
   "cell_type": "code",
   "metadata": {
    "ExecuteTime": {
     "end_time": "2024-11-17T02:42:43.893684Z",
     "start_time": "2024-11-17T02:42:43.887370Z"
    }
   },
   "source": [
    "batch = [train_dataset[i][\"en\"] for i in range(4)]\n",
    "\n",
    "encoded_batch = tokenizer.batch_encode_plus(\n",
    "    batch, padding=\"longest\", return_tensors=\"pt\"\n",
    ")\n",
    "print(encoded_batch[\"input_ids\"].shape)\n",
    "print(encoded_batch.keys())"
   ],
   "outputs": [
    {
     "name": "stdout",
     "output_type": "stream",
     "text": [
      "torch.Size([4, 19])\n",
      "dict_keys(['input_ids', 'attention_mask'])\n"
     ]
    }
   ],
   "execution_count": 13
  },
  {
   "cell_type": "markdown",
   "metadata": {},
   "source": [
    "Возвращается два значения: `input_ids` — это наши токены, а `attention_mask` — это тензор, равный по размеру батчу токенов, где на месте `pad_token` стоят нули, в остальных позициях — единицы. Это нам понадобится потом."
   ]
  },
  {
   "cell_type": "markdown",
   "metadata": {},
   "source": [
    "А ещё можно кодировать сразу входные и выходные данные:"
   ]
  },
  {
   "cell_type": "code",
   "metadata": {
    "ExecuteTime": {
     "end_time": "2024-11-17T02:42:47.207186Z",
     "start_time": "2024-11-17T02:42:47.201244Z"
    }
   },
   "source": [
    "inputs = [train_dataset[i][\"en\"] + tokenizer.bos_token for i in range(4)]\n",
    "targets = [train_dataset[i][\"de\"] for i in range(4)]\n",
    "\n",
    "encoded_batch = tokenizer(\n",
    "    inputs, text_target=targets, padding=\"longest\", return_tensors=\"pt\"\n",
    ")\n",
    "print(encoded_batch.keys())"
   ],
   "outputs": [
    {
     "name": "stdout",
     "output_type": "stream",
     "text": [
      "dict_keys(['input_ids', 'attention_mask', 'labels'])\n"
     ]
    }
   ],
   "execution_count": 14
  },
  {
   "cell_type": "markdown",
   "metadata": {},
   "source": [
    "Используем это в `collate_fn` для сборки батчей:"
   ]
  },
  {
   "cell_type": "code",
   "metadata": {
    "ExecuteTime": {
     "end_time": "2024-11-17T02:42:49.385603Z",
     "start_time": "2024-11-17T02:42:49.380754Z"
    }
   },
   "source": [
    "def collate_fn(\n",
    "    tokenizer: T5Tokenizer, batch: list[tuple[str, str]]\n",
    ") -> tuple[Tensor, Tensor]:\n",
    "    prompt = tokenizer.bos_token\n",
    "    inputs, targets = zip(*[(pair[\"de\"], prompt + pair[\"en\"]) for pair in batch])\n",
    "    encoded_batch = tokenizer(\n",
    "        inputs, text_target=targets, padding=\"longest\", return_tensors=\"pt\"\n",
    "    )\n",
    "    return encoded_batch"
   ],
   "outputs": [],
   "execution_count": 15
  },
  {
   "cell_type": "code",
   "metadata": {
    "ExecuteTime": {
     "end_time": "2024-11-17T02:42:49.876362Z",
     "start_time": "2024-11-17T02:42:49.872840Z"
    }
   },
   "source": [
    "batch = [train_dataset[i] for i in range(4)]\n",
    "encoded_batch = collate_fn(tokenizer, batch)\n",
    "print(encoded_batch.keys())"
   ],
   "outputs": [
    {
     "name": "stdout",
     "output_type": "stream",
     "text": [
      "dict_keys(['input_ids', 'attention_mask', 'labels'])\n"
     ]
    }
   ],
   "execution_count": 16
  },
  {
   "cell_type": "code",
   "metadata": {
    "ExecuteTime": {
     "end_time": "2024-11-17T02:42:50.569950Z",
     "start_time": "2024-11-17T02:42:50.567115Z"
    }
   },
   "source": [
    "print(encoded_batch[\"input_ids\"].shape)\n",
    "print(encoded_batch[\"attention_mask\"].shape)\n",
    "print(encoded_batch[\"labels\"].shape)"
   ],
   "outputs": [
    {
     "name": "stdout",
     "output_type": "stream",
     "text": [
      "torch.Size([4, 22])\n",
      "torch.Size([4, 22])\n",
      "torch.Size([4, 20])\n"
     ]
    }
   ],
   "execution_count": 17
  },
  {
   "cell_type": "markdown",
   "metadata": {},
   "source": [
    "Всё готово для получения минибатчей из датасетов:"
   ]
  },
  {
   "cell_type": "code",
   "metadata": {
    "ExecuteTime": {
     "end_time": "2024-11-17T02:42:51.831608Z",
     "start_time": "2024-11-17T02:42:51.828047Z"
    }
   },
   "source": [
    "train_loader = DataLoader(\n",
    "    train_filtered,\n",
    "    batch_size=32,\n",
    "    shuffle=True,\n",
    "    collate_fn=lambda batch: collate_fn(tokenizer, batch),\n",
    ")\n",
    "test_loader = DataLoader(\n",
    "    test_filtered,\n",
    "    batch_size=32,\n",
    "    shuffle=False,\n",
    "    collate_fn=lambda batch: collate_fn(tokenizer, batch),\n",
    ")"
   ],
   "outputs": [],
   "execution_count": 18
  },
  {
   "cell_type": "markdown",
   "metadata": {},
   "source": [
    "#### Задание 1 (3 балла). DataModule\n",
    "\n",
    "Реализуйте подкласс `lightning.LightningDataModule` для работы с обучающим и тестовым датасетами"
   ]
  },
  {
   "cell_type": "code",
   "metadata": {
    "ExecuteTime": {
     "end_time": "2024-11-17T02:42:55.164983Z",
     "start_time": "2024-11-17T02:42:55.154233Z"
    }
   },
   "source": [
    "from lightning.pytorch.utilities.types import EVAL_DATALOADERS, TRAIN_DATALOADERS\n",
    "\n",
    "\n",
    "class Multi30kDataset(L.LightningDataModule):\n",
    "    train_dataset: Dataset\n",
    "    test_dataset: Dataset\n",
    "    tokenizer: T5Tokenizer\n",
    "    def __init__(self, maxlen: int = 0, batch_size: int = 32) -> None:\n",
    "        super().__init__()\n",
    "        self.maxlen = maxlen\n",
    "        self.batch_size = batch_size\n",
    "        self.tokenizer = T5Tokenizer.from_pretrained(\n",
    "            \"t5-small\", padding_size=\"right\", bos_token=\"</b>\", legacy=False\n",
    "        )\n",
    "\n",
    "    def prepare_data(self) -> None:\n",
    "        # Download datasets; this is only called on one process in distributed settings\n",
    "        load_dataset(\"bentrevett/multi30k\", split=\"train\")\n",
    "        load_dataset(\"bentrevett/multi30k\", split=\"test\")\n",
    "\n",
    "    def setup(self, stage: str = None) -> None:\n",
    "        # Load datasets; called on every process in distributed settings\n",
    "        if stage == 'fit' or stage is None:\n",
    "            self.train_dataset = load_dataset(\"bentrevett/multi30k\", split=\"train\")\n",
    "            self.test_dataset = load_dataset(\"bentrevett/multi30k\", split=\"test\")\n",
    "\n",
    "            if self.maxlen > 0:\n",
    "                self.train_dataset = self.filter_dataset(self.train_dataset, self.maxlen)\n",
    "                self.test_dataset = self.filter_dataset(self.test_dataset, self.maxlen)\n",
    "\n",
    "    def filter_dataset(self, dataset, maxlen: int) -> list[dict[str, str]]:\n",
    "        return [\n",
    "            dataset[i]\n",
    "            for i in range(len(dataset))\n",
    "            if len(dataset[i][\"en\"].split(\" \")) <= maxlen\n",
    "        ]\n",
    "\n",
    "    def collate_fn(self, batch: list[dict[str, str]]) -> dict[str, Tensor]:\n",
    "        prompt = self.tokenizer.bos_token\n",
    "        inputs, targets = zip(*[(pair[\"de\"], prompt + pair[\"en\"]) for pair in batch])\n",
    "        encoded_batch = self.tokenizer(\n",
    "            inputs, text_target=targets, padding=\"longest\", return_tensors=\"pt\"\n",
    "        )\n",
    "        return encoded_batch\n",
    "\n",
    "    def train_dataloader(self) -> TRAIN_DATALOADERS:\n",
    "        return DataLoader(\n",
    "            self.train_dataset,\n",
    "            batch_size=self.batch_size,\n",
    "            shuffle=True,\n",
    "            collate_fn=self.collate_fn,\n",
    "        )\n",
    "\n",
    "    def val_dataloader(self) -> EVAL_DATALOADERS:\n",
    "        return DataLoader(\n",
    "            self.test_dataset,\n",
    "            batch_size=self.batch_size,\n",
    "            shuffle=False,\n",
    "            collate_fn=self.collate_fn,\n",
    "        )\n",
    "\n",
    "    def test_dataloader(self) -> EVAL_DATALOADERS:\n",
    "        return self.val_dataloader()"
   ],
   "outputs": [],
   "execution_count": 19
  },
  {
   "cell_type": "code",
   "metadata": {
    "ExecuteTime": {
     "end_time": "2024-11-17T02:42:57.173032Z",
     "start_time": "2024-11-17T02:42:56.488382Z"
    }
   },
   "source": [
    "multi30k = Multi30kDataset(maxlen=8, batch_size=12)"
   ],
   "outputs": [],
   "execution_count": 20
  },
  {
   "cell_type": "markdown",
   "metadata": {},
   "source": [
    "#### Задание 2 (6 баллов). Обучение T5"
   ]
  },
  {
   "cell_type": "markdown",
   "metadata": {},
   "source": [
    "paper: https://arxiv.org/abs/1910.10683"
   ]
  },
  {
   "cell_type": "markdown",
   "metadata": {},
   "source": [
    "Обучите `t5-small` на наших данных, длительность обучения — на ваше усмотрение. В [документации](https://huggingface.co/docs/transformers/model_doc/t5) вы найдёте примеры использования, которые помогут вам разобраться в интерфейсе модели."
   ]
  },
  {
   "cell_type": "code",
   "metadata": {
    "ExecuteTime": {
     "end_time": "2024-11-17T03:12:41.483750Z",
     "start_time": "2024-11-17T03:09:17.708171Z"
    }
   },
   "source": [
    "t5 = T5ForConditionalGeneration.from_pretrained(\"t5-small\")"
   ],
   "outputs": [
    {
     "data": {
      "text/plain": [
       "config.json:   0%|          | 0.00/1.21k [00:00<?, ?B/s]"
      ],
      "application/vnd.jupyter.widget-view+json": {
       "version_major": 2,
       "version_minor": 0,
       "model_id": "d7669a82ff9745969802e53abb999fc9"
      }
     },
     "metadata": {},
     "output_type": "display_data"
    },
    {
     "data": {
      "text/plain": [
       "model.safetensors:   0%|          | 0.00/242M [00:00<?, ?B/s]"
      ],
      "application/vnd.jupyter.widget-view+json": {
       "version_major": 2,
       "version_minor": 0,
       "model_id": "74b78ee2a9494d90b2f4e76bd373f650"
      }
     },
     "metadata": {},
     "output_type": "display_data"
    },
    {
     "data": {
      "text/plain": [
       "generation_config.json:   0%|          | 0.00/147 [00:00<?, ?B/s]"
      ],
      "application/vnd.jupyter.widget-view+json": {
       "version_major": 2,
       "version_minor": 0,
       "model_id": "15696eead8da46b6a7260a4ee835606c"
      }
     },
     "metadata": {},
     "output_type": "display_data"
    }
   ],
   "execution_count": 23
  },
  {
   "cell_type": "markdown",
   "metadata": {},
   "source": [
    "Обернём в `LightningModule`"
   ]
  },
  {
   "cell_type": "code",
   "metadata": {
    "ExecuteTime": {
     "end_time": "2024-11-17T03:16:22.666925Z",
     "start_time": "2024-11-17T03:16:22.639991Z"
    }
   },
   "source": [
    "import lightning as L\n",
    "from lightning.pytorch.utilities.types import STEP_OUTPUT, OptimizerLRScheduler\n",
    "\n",
    "\n",
    "class Seq2Seq(L.LightningModule):\n",
    "    def __init__(\n",
    "        self,\n",
    "        model: nn.Module,\n",
    "        tokenizer: T5Tokenizer,\n",
    "        lr: float = 0.001,\n",
    "    ) -> None:\n",
    "        super().__init__()\n",
    "        self.model = model\n",
    "        self.tokenizer = tokenizer\n",
    "        self.lr = lr\n",
    "\n",
    "    def training_step(self, batch: dict[str, Tensor], batch_idx: int) -> STEP_OUTPUT:\n",
    "        outputs = self.model(\n",
    "            input_ids=batch[\"input_ids\"],\n",
    "            attention_mask=batch[\"attention_mask\"],\n",
    "            labels=batch[\"labels\"],\n",
    "        )\n",
    "        loss = outputs.loss\n",
    "        self.log(\"loss\", loss, prog_bar=True)\n",
    "        return loss\n",
    "\n",
    "    def configure_optimizers(self) -> OptimizerLRScheduler:\n",
    "        optimizer = torch.optim.AdamW(self.parameters(), lr=self.lr)\n",
    "        return optimizer"
   ],
   "outputs": [],
   "execution_count": 26
  },
  {
   "cell_type": "code",
   "metadata": {
    "ExecuteTime": {
     "end_time": "2024-11-17T04:04:03.049149Z",
     "start_time": "2024-11-17T04:01:46.858008Z"
    }
   },
   "source": [
    "from pytorch_lightning.loggers import TensorBoardLogger\n",
    "\n",
    "#logger = TensorBoardLogger(\"lightning_logs\", name=\"t5_translation\")\n",
    "\n",
    "trainer = L.Trainer(\n",
    "    accelerator=\"auto\",\n",
    "    max_epochs=50,\n",
    "    limit_train_batches=10,\n",
    "   # logger=logger, \n",
    ")\n",
    "seq2seq = Seq2Seq(t5, multi30k.tokenizer, lr=0.001)\n",
    "trainer.fit(model=seq2seq, datamodule=multi30k)"
   ],
   "outputs": [
    {
     "name": "stderr",
     "output_type": "stream",
     "text": [
      "GPU available: True (mps), used: True\n",
      "TPU available: False, using: 0 TPU cores\n",
      "HPU available: False, using: 0 HPUs\n",
      "\n",
      "  | Name  | Type                       | Params | Mode\n",
      "------------------------------------------------------------\n",
      "0 | model | T5ForConditionalGeneration | 60.5 M | eval\n",
      "------------------------------------------------------------\n",
      "60.5 M    Trainable params\n",
      "0         Non-trainable params\n",
      "60.5 M    Total params\n",
      "242.026   Total estimated model params size (MB)\n",
      "0         Modules in train mode\n",
      "277       Modules in eval mode\n"
     ]
    },
    {
     "data": {
      "text/plain": [
       "Training: |          | 0/? [00:00<?, ?it/s]"
      ],
      "application/vnd.jupyter.widget-view+json": {
       "version_major": 2,
       "version_minor": 0,
       "model_id": "96c26e96caf743edbdad10d6148820ce"
      }
     },
     "metadata": {},
     "output_type": "display_data"
    },
    {
     "name": "stderr",
     "output_type": "stream",
     "text": [
      "`Trainer.fit` stopped: `max_epochs=50` reached.\n"
     ]
    }
   ],
   "execution_count": 40
  },
  {
   "cell_type": "markdown",
   "metadata": {},
   "source": [
    "#### Задание 3 (3 балла). Генерация перевода\n",
    "\n",
    "Сгенерируйте перевод для одного батча из тестового датасета (используйте метод `t5.generate()`), используя разные стратегии декодирования:\n",
    "- *greedy decoding*\n",
    "- *multinomial sampling*\n",
    "- *beam-search multinomial sampling*\n",
    "\n",
    "Эти стратегии (а также другие стратегии декодирования) можно задавать через `transformers.GenerationConfig`, который можно передать в метод `.generate()` нашей модели.\n",
    "Выберите параметры, которые, на ваш взгляд, работают лучше всего."
   ]
  },
  {
   "cell_type": "code",
   "metadata": {
    "ExecuteTime": {
     "end_time": "2024-11-17T04:21:06.820532Z",
     "start_time": "2024-11-17T04:21:06.812728Z"
    }
   },
   "source": [
    "from transformers import GenerationConfig\n",
    "\n",
    "from transformers import GenerationConfig\n",
    "\n",
    "greedy_conf = GenerationConfig(\n",
    "    max_new_tokens=40,\n",
    "    do_sample=False,\n",
    "    num_beams=1,     \n",
    ")\n",
    "\n",
    "# Multinomial Sampling с изменёнными параметрами\n",
    "sampling_conf = GenerationConfig(\n",
    "    max_new_tokens=40,\n",
    "    do_sample=True,        \n",
    "    temperature=0.6,       \n",
    "    top_p=0.85,             \n",
    "    num_beams=1,           \n",
    "    no_repeat_ngram_size=2, \n",
    ")\n",
    "beam_sampling_conf = GenerationConfig(\n",
    "    max_new_tokens=40,\n",
    "    do_sample=True,           \n",
    "    temperature=0.7,        \n",
    "    top_p=0.9,              \n",
    "    num_beams=8,             \n",
    "    length_penalty=1.2,      \n",
    "    no_repeat_ngram_size=3,   \n",
    "    early_stopping=True,     \n",
    ")"
   ],
   "outputs": [],
   "execution_count": 51
  },
  {
   "cell_type": "code",
   "metadata": {
    "ExecuteTime": {
     "end_time": "2024-11-17T04:21:09.929807Z",
     "start_time": "2024-11-17T04:21:07.278330Z"
    }
   },
   "source": [
    "batch = next(iter(multi30k.test_dataloader()))\n",
    "\n",
    "try:\n",
    "    greedy_preds = t5.generate(batch[\"input_ids\"], generation_config=greedy_conf)\n",
    "    sampling_preds = t5.generate(batch[\"input_ids\"], generation_config=sampling_conf)\n",
    "    beam_sampling_preds = t5.generate(batch[\"input_ids\"], generation_config=beam_sampling_conf)\n",
    "except TypeError as e:\n",
    "    print(\"Ошибка при генерации:\", e)\n",
    "    print(\"Проверьте, что batch является словарём с нужными ключами.\")\n",
    "    raise\n",
    "\n",
    "inputs = multi30k.tokenizer.batch_decode(batch[\"input_ids\"], skip_special_tokens=True)\n",
    "labels = batch[\"labels\"].clone()\n",
    "labels[labels == -100] = multi30k.tokenizer.pad_token_id  \n",
    "targets = multi30k.tokenizer.batch_decode(labels, skip_special_tokens=True)\n",
    "\n",
    "greedy_outputs = multi30k.tokenizer.batch_decode(greedy_preds, skip_special_tokens=True)\n",
    "sampling_outputs = multi30k.tokenizer.batch_decode(sampling_preds, skip_special_tokens=True)\n",
    "beam_sampling_outputs = multi30k.tokenizer.batch_decode(beam_sampling_preds, skip_special_tokens=True)\n",
    "\n",
    "for i in range(len(inputs)):\n",
    "    print(f\"Input {i+1}: {inputs[i]}\")\n",
    "    print(f\"Target {i+1}: {targets[i]}\")\n",
    "    print(f\"Greedy Output {i+1}: {greedy_outputs[i]}\")\n",
    "    print(f\"Sampling Output {i+1}: {sampling_outputs[i]}\")\n",
    "    print(f\"Beam Sampling Output {i+1}: {beam_sampling_outputs[i]}\")\n",
    "    print(\"-\" * 80)\n",
    "# декодируем входы, правильный и сгенерированный перевод с помощью токенизатора и выводим\n",
    "..."
   ],
   "outputs": [
    {
     "name": "stdout",
     "output_type": "stream",
     "text": [
      "Input 1: Leute Reparieren das Dach eines Hauses.\n",
      "Target 1: People are fixing the roof of a house.\n",
      "Greedy Output 1: People are fixing a roof of a house.\n",
      "Sampling Output 1: People are fixing a roof of ten people.\n",
      "Beam Sampling Output 1: People are fixing a roof of a house.\n",
      "--------------------------------------------------------------------------------\n",
      "Input 2: Ein Typ arbeitet an einem Gebäude.\n",
      "Target 2: A guy works on a building.\n",
      "Greedy Output 2: A guy working on a building.\n",
      "Sampling Output 2: A guy working on a building.\n",
      "Beam Sampling Output 2: A guy working on a building.\n",
      "--------------------------------------------------------------------------------\n",
      "Input 3: Drei Leute sitzen in einer Höhle.\n",
      "Target 3: Three people sit in a cave.\n",
      "Greedy Output 3: Thre people are sitting in a höhle.\n",
      "Sampling Output 3: Thre people are sitting in a höhle.\n",
      "Beam Sampling Output 3: Thre people are sitting in a cave.\n",
      "--------------------------------------------------------------------------------\n",
      "Input 4: Leute, die vor einem Gebäude stehen.\n",
      "Target 4: People standing outside of a building.\n",
      "Greedy Output 4: People standing outside of a building.\n",
      "Sampling Output 4: People standing outside of a building.\n",
      "Beam Sampling Output 4: People standing outside of a building.\n",
      "--------------------------------------------------------------------------------\n",
      "Input 5: Ein Mann schneidet ste von Bäumen.\n",
      "Target 5: A man cutting branches of trees.\n",
      "Greedy Output 5: A man cutting trees.\n",
      "Sampling Output 5: A man cutting a tree tree.\n",
      "Beam Sampling Output 5: A man chopping from trees.\n",
      "--------------------------------------------------------------------------------\n",
      "Input 6: Frauen, die traditionelle Kleidung tragen, spielen das Leben Einheimischer nach.\n",
      "Target 6: Women, wearing traditional clothing, are reenacting native life.\n",
      "Greedy Output 6: Women wearing traditional clothing playing home.\n",
      "Sampling Output 6: Women wearing traditional clothing playing home.\n",
      "Beam Sampling Output 6: Women wearing traditional clothing playing home.\n",
      "--------------------------------------------------------------------------------\n",
      "Input 7: Ein Kind planscht im Wasser.\n",
      "Target 7: A child is splashing in the water\n",
      "Greedy Output 7: A child splashing in the water.\n",
      "Sampling Output 7: A child splashing in the water.\n",
      "Beam Sampling Output 7: A child splashing in the water.\n",
      "--------------------------------------------------------------------------------\n",
      "Input 8: Eine schöne Frau spielt auf einer Harfe.\n",
      "Target 8: A pretty woman plays a harpsichord.\n",
      "Greedy Output 8: A beautiful woman is playing on a harp.\n",
      "Sampling Output 8: A beautiful woman playing on a harp.\n",
      "Beam Sampling Output 8: A beautiful woman plays on a harp.\n",
      "--------------------------------------------------------------------------------\n",
      "Input 9: Die junge Dame sieht auf die Pizza.\n",
      "Target 9: The young lady is looking at the pizza.\n",
      "Greedy Output 9: The young lady is looking at the pizza.\n",
      "Sampling Output 9: The young lady is looking on the pizza.\n",
      "Beam Sampling Output 9: The young lady is looking at the pizza.\n",
      "--------------------------------------------------------------------------------\n",
      "Input 10: Leute sitzen in einem Zug.\n",
      "Target 10: People sit inside a train.\n",
      "Greedy Output 10: People are sitting in a train.\n",
      "Sampling Output 10: People are sitting in a train.\n",
      "Beam Sampling Output 10: People are sitting in a train.\n",
      "--------------------------------------------------------------------------------\n",
      "Input 11: Ein kleines Kind kocht mit einer anderen Person.\n",
      "Target 11: A toddler is cooking with another person.\n",
      "Greedy Output 11: A small child cooking with another person.\n",
      "Sampling Output 11: A small child cooking with another person.\n",
      "Beam Sampling Output 11: A small child cooking with another person.\n",
      "--------------------------------------------------------------------------------\n",
      "Input 12: Ein Mann bereitet am Herd Essen zu.\n",
      "Target 12: A man cooking food on the stove.\n",
      "Greedy Output 12: A man is preparing food for the crop.\n",
      "Sampling Output 12: A man is preparing food to eat.\n",
      "Beam Sampling Output 12: A man is preparing food to eat.\n",
      "--------------------------------------------------------------------------------\n"
     ]
    },
    {
     "data": {
      "text/plain": [
       "Ellipsis"
      ]
     },
     "execution_count": 52,
     "metadata": {},
     "output_type": "execute_result"
    }
   ],
   "execution_count": 52
  },
  {
   "metadata": {},
   "cell_type": "code",
   "outputs": [],
   "execution_count": null,
   "source": ""
  }
 ],
 "metadata": {
  "kernelspec": {
   "display_name": "dl-mcs",
   "language": "python",
   "name": "python3"
  },
  "language_info": {
   "codemirror_mode": {
    "name": "ipython",
    "version": 3
   },
   "file_extension": ".py",
   "mimetype": "text/x-python",
   "name": "python",
   "nbconvert_exporter": "python",
   "pygments_lexer": "ipython3",
   "version": "3.12.5"
  }
 },
 "nbformat": 4,
 "nbformat_minor": 2
}
