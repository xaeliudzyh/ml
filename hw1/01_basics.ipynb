{
 "cells": [
  {
   "cell_type": "markdown",
   "metadata": {},
   "source": [
    "## Основы pytorch"
   ]
  },
  {
   "cell_type": "markdown",
   "metadata": {},
   "source": [
    "Для выполнения ДЗ создайте приватный репозиторий и добавьте `https://github.com/norsage` в collaborators (Settings -> Collaborators -> Add people)"
   ]
  },
  {
   "cell_type": "code",
   "metadata": {
    "ExecuteTime": {
     "end_time": "2024-09-12T18:29:36.982522Z",
     "start_time": "2024-09-12T18:29:36.004034Z"
    }
   },
   "source": "import torch",
   "outputs": [],
   "execution_count": 1
  },
  {
   "cell_type": "markdown",
   "metadata": {},
   "source": [
    "#### 1. Операции над тензорами (1 балл)"
   ]
  },
  {
   "cell_type": "markdown",
   "metadata": {},
   "source": [
    "##### 1.1 Среднее значение по столбцам"
   ]
  },
  {
   "cell_type": "code",
   "metadata": {
    "ExecuteTime": {
     "end_time": "2024-09-12T18:29:39.540625Z",
     "start_time": "2024-09-12T18:29:39.500288Z"
    }
   },
   "source": [
    "torch.manual_seed(42)\n",
    "x = torch.randint(10, size=(2, 3)).float()\n",
    "x"
   ],
   "outputs": [
    {
     "data": {
      "text/plain": [
       "tensor([[2., 7., 6.],\n",
       "        [4., 6., 5.]])"
      ]
     },
     "execution_count": 2,
     "metadata": {},
     "output_type": "execute_result"
    }
   ],
   "execution_count": 2
  },
  {
   "cell_type": "code",
   "metadata": {
    "ExecuteTime": {
     "end_time": "2024-09-12T18:29:39.710472Z",
     "start_time": "2024-09-12T18:29:39.703855Z"
    }
   },
   "source": [
    "mean_by_row = torch.mean(x, 0)\n",
    "assert torch.allclose(\n",
    "    mean_by_row, _expected := torch.tensor([3.0, 6.5, 5.5])\n",
    "), f\"{mean_by_row} != {_expected}\""
   ],
   "outputs": [],
   "execution_count": 3
  },
  {
   "cell_type": "markdown",
   "metadata": {},
   "source": [
    "##### 1.2. Взвешенное среднее\n",
    "В тензоре `w` находятся ненормализованные веса для расчёта взвешенных средних тензора `x` по строкам.\n",
    "\n",
    "Найдите эти взвешенные средние, получая нормализованные веса с помощью функции `torch.softmax` (или метода `.softmax`)"
   ]
  },
  {
   "cell_type": "code",
   "metadata": {
    "ExecuteTime": {
     "end_time": "2024-09-12T18:29:40.038767Z",
     "start_time": "2024-09-12T18:29:40.034634Z"
    }
   },
   "source": [
    "torch.manual_seed(42)\n",
    "x = torch.randint(10, size=(2, 3)).float()\n",
    "w = torch.randint(10, size=(2, 3)).float()\n",
    "print(x)\n",
    "print(w)"
   ],
   "outputs": [
    {
     "name": "stdout",
     "output_type": "stream",
     "text": [
      "tensor([[2., 7., 6.],\n",
      "        [4., 6., 5.]])\n",
      "tensor([[0., 4., 0.],\n",
      "        [3., 8., 4.]])\n"
     ]
    }
   ],
   "execution_count": 4
  },
  {
   "cell_type": "code",
   "metadata": {
    "ExecuteTime": {
     "end_time": "2024-09-12T18:29:40.522512Z",
     "start_time": "2024-09-12T18:29:40.518445Z"
    }
   },
   "source": [
    "#print(torch.softmax(w, dim=1))\n",
    "w_avg = torch.sum(x * torch.softmax(w, dim=1), dim=1)\n",
    "assert torch.allclose(\n",
    "    w_avg, _expected := torch.tensor([6.8940, 5.9690])\n",
    "), f\"{w_avg} != {_expected}\""
   ],
   "outputs": [],
   "execution_count": 5
  },
  {
   "cell_type": "markdown",
   "metadata": {},
   "source": [
    "##### 1.3. Умножение матриц на векторы\n",
    "\n",
    "В тензоре `m` - две матрицы, нужно сделать тензор, в котором i-й элемент - результат умножения матрицы `m[i]` на вектор `x[i]`.\n",
    "\n",
    "Это можно было бы сделать так: `torch.stack([m[i] @ x[i] for i in len(m)])`.\n",
    "\n",
    "Попробуйте найти решение без цикла."
   ]
  },
  {
   "cell_type": "code",
   "metadata": {
    "ExecuteTime": {
     "end_time": "2024-09-12T18:29:41.106471Z",
     "start_time": "2024-09-12T18:29:41.101970Z"
    }
   },
   "source": [
    "torch.manual_seed(42)\n",
    "x = torch.randint(10, size=(2, 3)).float()\n",
    "m = torch.randint(10, size=(2, 3, 3)).float()\n",
    "print(m)\n",
    "print(x)"
   ],
   "outputs": [
    {
     "name": "stdout",
     "output_type": "stream",
     "text": [
      "tensor([[[0., 4., 0.],\n",
      "         [3., 8., 4.],\n",
      "         [0., 4., 1.]],\n",
      "\n",
      "        [[2., 5., 5.],\n",
      "         [7., 6., 9.],\n",
      "         [6., 3., 1.]]])\n",
      "tensor([[2., 7., 6.],\n",
      "        [4., 6., 5.]])\n"
     ]
    }
   ],
   "execution_count": 6
  },
  {
   "cell_type": "code",
   "metadata": {
    "ExecuteTime": {
     "end_time": "2024-09-12T18:29:41.304630Z",
     "start_time": "2024-09-12T18:29:41.300162Z"
    }
   },
   "source": [
    "x = x.unsqueeze(2)\n",
    "matmul = torch.bmm(m, x).squeeze(2) \n",
    "assert torch.allclose(\n",
    "    matmul, _expected := torch.tensor([[28.0, 86.0, 34.0], [63.0, 109.0, 47.0]])\n",
    "), f\"{matmul} != {_expected}\""
   ],
   "outputs": [],
   "execution_count": 7
  },
  {
   "cell_type": "markdown",
   "metadata": {},
   "source": [
    "##### 1.4. Матрица попарных расстояний\n",
    "\n",
    "Даны две матрицы `x` и `y`, нужно получить матрицу `d`, где `d[i, j]` - евклидово расстояние между векторами `x[i]` и `y[j]`.\n",
    "\n",
    "Подсказка 1: воспользуйтесь broadcasting и добавлением размерностей в исходные тензоры.\n",
    "\n",
    "Подсказка 2: можно не считать евклидово расстояние вручную, есть функция `torch.linalg.norm`\n",
    "\n"
   ]
  },
  {
   "cell_type": "code",
   "metadata": {
    "ExecuteTime": {
     "end_time": "2024-09-12T18:29:42.677873Z",
     "start_time": "2024-09-12T18:29:42.673653Z"
    }
   },
   "source": [
    "torch.manual_seed(42)\n",
    "x = torch.randint(10, size=(2, 3)).float()\n",
    "y = torch.randint(10, size=(3, 3)).float()\n",
    "print(x)\n",
    "print(y)"
   ],
   "outputs": [
    {
     "name": "stdout",
     "output_type": "stream",
     "text": [
      "tensor([[2., 7., 6.],\n",
      "        [4., 6., 5.]])\n",
      "tensor([[0., 4., 0.],\n",
      "        [3., 8., 4.],\n",
      "        [0., 4., 1.]])\n"
     ]
    }
   ],
   "execution_count": 8
  },
  {
   "cell_type": "code",
   "metadata": {
    "ExecuteTime": {
     "end_time": "2024-09-12T18:29:43.110861Z",
     "start_time": "2024-09-12T18:29:43.106912Z"
    }
   },
   "source": [
    "x_expanded = x.unsqueeze(1) \n",
    "y_expanded = y.unsqueeze(0)  \n",
    "differences = x_expanded - y_expanded\n",
    "pdist = torch.linalg.norm(differences, dim=-1)\n",
    "assert torch.allclose(\n",
    "    pdist,\n",
    "    _expected := torch.tensor([[7.0000, 2.4495, 6.1644], [6.7082, 2.4495, 6.0000]]),\n",
    "), f\"{pdist} != {_expected}\""
   ],
   "outputs": [],
   "execution_count": 9
  },
  {
   "cell_type": "markdown",
   "metadata": {},
   "source": [
    "#### 2. Функция Power (1 балл)\n",
    "Используя сложение и умножение, реализуйте возведение в целочисленную степень FloatTensor как функцию autograd (т.е. наследника `torch.autograd.Function`)"
   ]
  },
  {
   "cell_type": "code",
   "metadata": {
    "ExecuteTime": {
     "end_time": "2024-09-12T18:49:59.750564Z",
     "start_time": "2024-09-12T18:49:59.745074Z"
    }
   },
   "source": [
    "class Power(torch.autograd.Function):\n",
    "    @staticmethod\n",
    "    def forward(tensor, p):\n",
    "        result = torch.ones_like(tensor)\n",
    "        for _ in range(p):\n",
    "            result *= tensor\n",
    "        return result\n",
    "\n",
    "    @staticmethod\n",
    "    def setup_context(ctx, inputs, output):\n",
    "        tensor, p = inputs\n",
    "        ctx.save_for_backward(tensor)\n",
    "        ctx.p = p\n",
    "\n",
    "    @staticmethod\n",
    "    def backward(ctx, grad_output):\n",
    "        tensor, = ctx.saved_tensors\n",
    "        p = ctx.p\n",
    "        if p == 0:\n",
    "            grad_tensor = torch.zeros_like(tensor)\n",
    "        else:\n",
    "            grad_tensor = p * (tensor ** (p - 1)) * grad_output\n",
    "        \n",
    "        return grad_tensor, None  \n"
   ],
   "outputs": [],
   "execution_count": 14
  },
  {
   "cell_type": "code",
   "metadata": {
    "ExecuteTime": {
     "end_time": "2024-09-12T18:50:01.722667Z",
     "start_time": "2024-09-12T18:50:01.719159Z"
    }
   },
   "source": [
    "assert torch.all(Power.apply(torch.tensor([1, 2, 3]), 0) == torch.tensor([1, 1, 1]))\n",
    "assert torch.all(Power.apply(torch.tensor([1, 2, 3]), 2) == torch.tensor([1, 4, 9]))"
   ],
   "outputs": [],
   "execution_count": 15
  },
  {
   "metadata": {
    "ExecuteTime": {
     "end_time": "2024-09-12T17:33:24.919622Z",
     "start_time": "2024-09-12T17:33:24.919562Z"
    }
   },
   "cell_type": "code",
   "source": "",
   "outputs": [],
   "execution_count": null
  },
  {
   "cell_type": "markdown",
   "metadata": {},
   "source": [
    "#### 3. Многочлен (3 балла)\n",
    "Найдите корень (он один) заданного полинома (очень хорошего!) с точностью до пяти знаков после запятой:\n",
    "1. Используя бинарный поиск https://en.wikipedia.org/wiki/Binary_search_algorithm\n",
    "2. Используя метод Ньютона https://en.wikipedia.org/wiki/Newton%27s_method\n",
    "   \n",
    "   Задаётся начальное приближение вблизи предположительного корня, после чего строится касательная к графику исследуемой функции в точке приближения, для которой находится пересечение с осью абсцисс. Эта точка берётся в качестве следующего приближения. И так далее, пока не будет достигнута необходимая точность.\n",
    "   \n",
    "   (hint: для вычисления производных используйте метод `backward()`)\n",
    "   \n",
    "   $x_{n+1} = x_{n} - \\frac{f(x_n)}{f'(x_n)}$\n",
    "\n",
    "Сравните скорость методов с помощью `%%timeit`, т.е. оцените, какой из них найдёт ответ быстрее"
   ]
  },
  {
   "cell_type": "code",
   "metadata": {
    "ExecuteTime": {
     "end_time": "2024-09-12T17:33:24.920558Z",
     "start_time": "2024-09-12T17:33:24.920297Z"
    }
   },
   "source": [
    "from typing import Callable\n",
    "\n",
    "Polynomial = Callable[[torch.FloatTensor], torch.FloatTensor]\n",
    "\n",
    "\n",
    "def poly(x: torch.FloatTensor) -> torch.FloatTensor:\n",
    "    return x**7 + 5 * x**3 + 17 * x - 9"
   ],
   "outputs": [],
   "execution_count": null
  },
  {
   "cell_type": "code",
   "metadata": {},
   "source": [
    "def bin_search_find_zero(poly: Polynomial) -> torch.FloatTensor:\n",
    "    \"\"\"Функция для бинарного поиска\"\"\"\n",
    "    ...\n",
    "    return ..."
   ],
   "outputs": [],
   "execution_count": null
  },
  {
   "cell_type": "code",
   "metadata": {},
   "source": [
    "def newton_find_zero(poly: Polynomial) -> torch.FloatTensor:\n",
    "    \"\"\"Функция для метода Ньютона\"\"\"\n",
    "\n",
    "    # первое приближение (не забываем про то, что понадобится градиент!)\n",
    "    x = ...\n",
    "\n",
    "    # останавливаемся, если значение функции достаточно близко к нулю\n",
    "    tol = 10**-5\n",
    "\n",
    "    # значение\n",
    "    val = ...\n",
    "\n",
    "    # цикл обновления\n",
    "    while ...:  # когда останавливаемся?\n",
    "        # получаем градиент, обновляем значение x, оцениваем f(x)\n",
    "        # hint: нужны ли нам градиенты, когда мы обновляем x?\n",
    "        # hint: не забываем про обнуление градиента с прошлых шагов\n",
    "        ...\n",
    "\n",
    "    return x"
   ],
   "outputs": [],
   "execution_count": null
  },
  {
   "cell_type": "code",
   "metadata": {},
   "source": [
    "x = newton_find_zero(poly)\n",
    "print(x)\n",
    "print(poly(x))"
   ],
   "outputs": [],
   "execution_count": null
  },
  {
   "cell_type": "code",
   "metadata": {},
   "source": [
    "%%timeit\n",
    "x = newton_find_zero(poly)"
   ],
   "outputs": [],
   "execution_count": null
  }
 ],
 "metadata": {
  "kernelspec": {
   "display_name": "a3d",
   "language": "python",
   "name": "python3"
  },
  "language_info": {
   "codemirror_mode": {
    "name": "ipython",
    "version": 3
   },
   "file_extension": ".py",
   "mimetype": "text/x-python",
   "name": "python",
   "nbconvert_exporter": "python",
   "pygments_lexer": "ipython3",
   "version": "3.12.5"
  },
  "orig_nbformat": 4
 },
 "nbformat": 4,
 "nbformat_minor": 2
}
